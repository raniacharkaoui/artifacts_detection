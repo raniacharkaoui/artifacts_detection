{
 "cells": [
  {
   "cell_type": "code",
   "execution_count": 1,
   "id": "8780073a-fd1a-477a-9724-0b38ffd209e5",
   "metadata": {},
   "outputs": [
    {
     "name": "stderr",
     "output_type": "stream",
     "text": [
      "Loading required package: S4Vectors\n",
      "\n",
      "Loading required package: stats4\n",
      "\n",
      "Loading required package: BiocGenerics\n",
      "\n",
      "\n",
      "Attaching package: 'BiocGenerics'\n",
      "\n",
      "\n",
      "The following objects are masked from 'package:stats':\n",
      "\n",
      "    IQR, mad, sd, var, xtabs\n",
      "\n",
      "\n",
      "The following objects are masked from 'package:base':\n",
      "\n",
      "    Filter, Find, Map, Position, Reduce, anyDuplicated, append,\n",
      "    as.data.frame, basename, cbind, colnames, dirname, do.call,\n",
      "    duplicated, eval, evalq, get, grep, grepl, intersect, is.unsorted,\n",
      "    lapply, mapply, match, mget, order, paste, pmax, pmax.int, pmin,\n",
      "    pmin.int, rank, rbind, rownames, sapply, setdiff, sort, table,\n",
      "    tapply, union, unique, unsplit, which.max, which.min\n",
      "\n",
      "\n",
      "\n",
      "Attaching package: 'S4Vectors'\n",
      "\n",
      "\n",
      "The following objects are masked from 'package:base':\n",
      "\n",
      "    I, expand.grid, unname\n",
      "\n",
      "\n",
      "Loading required package: IRanges\n",
      "\n",
      "Loading required package: GenomicRanges\n",
      "\n",
      "Loading required package: GenomeInfoDb\n",
      "\n",
      "Loading required package: SummarizedExperiment\n",
      "\n",
      "Loading required package: MatrixGenerics\n",
      "\n",
      "Loading required package: matrixStats\n",
      "\n",
      "\n",
      "Attaching package: 'MatrixGenerics'\n",
      "\n",
      "\n",
      "The following objects are masked from 'package:matrixStats':\n",
      "\n",
      "    colAlls, colAnyNAs, colAnys, colAvgsPerRowSet, colCollapse,\n",
      "    colCounts, colCummaxs, colCummins, colCumprods, colCumsums,\n",
      "    colDiffs, colIQRDiffs, colIQRs, colLogSumExps, colMadDiffs,\n",
      "    colMads, colMaxs, colMeans2, colMedians, colMins, colOrderStats,\n",
      "    colProds, colQuantiles, colRanges, colRanks, colSdDiffs, colSds,\n",
      "    colSums2, colTabulates, colVarDiffs, colVars, colWeightedMads,\n",
      "    colWeightedMeans, colWeightedMedians, colWeightedSds,\n",
      "    colWeightedVars, rowAlls, rowAnyNAs, rowAnys, rowAvgsPerColSet,\n",
      "    rowCollapse, rowCounts, rowCummaxs, rowCummins, rowCumprods,\n",
      "    rowCumsums, rowDiffs, rowIQRDiffs, rowIQRs, rowLogSumExps,\n",
      "    rowMadDiffs, rowMads, rowMaxs, rowMeans2, rowMedians, rowMins,\n",
      "    rowOrderStats, rowProds, rowQuantiles, rowRanges, rowRanks,\n",
      "    rowSdDiffs, rowSds, rowSums2, rowTabulates, rowVarDiffs, rowVars,\n",
      "    rowWeightedMads, rowWeightedMeans, rowWeightedMedians,\n",
      "    rowWeightedSds, rowWeightedVars\n",
      "\n",
      "\n",
      "Loading required package: Biobase\n",
      "\n",
      "Welcome to Bioconductor\n",
      "\n",
      "    Vignettes contain introductory material; view with\n",
      "    'browseVignettes()'. To cite Bioconductor, see\n",
      "    'citation(\"Biobase\")', and for packages 'citation(\"pkgname\")'.\n",
      "\n",
      "\n",
      "\n",
      "Attaching package: 'Biobase'\n",
      "\n",
      "\n",
      "The following object is masked from 'package:MatrixGenerics':\n",
      "\n",
      "    rowMedians\n",
      "\n",
      "\n",
      "The following objects are masked from 'package:matrixStats':\n",
      "\n",
      "    anyMissing, rowMedians\n",
      "\n",
      "\n"
     ]
    }
   ],
   "source": [
    "library( \"DESeq2\" )\n",
    "library(ggplot2)"
   ]
  },
  {
   "cell_type": "markdown",
   "id": "7eae2f38-94ba-44fa-9d74-1b4f66c9aca4",
   "metadata": {},
   "source": [
    "Michael I Love, Wolfgang Huber, Simon Anders: Moderated estimation of fold change and dispersion for RNA-seq data with DESeq2. Genome Biology 2014, 15:550. http://dx.doi.org/10.1186/s13059-014-0550-8"
   ]
  },
  {
   "cell_type": "code",
   "execution_count": 2,
   "id": "3e01c40b-64fe-47c0-92e8-38eed68f2f71",
   "metadata": {},
   "outputs": [
    {
     "data": {
      "text/html": [
       "<table class=\"dataframe\">\n",
       "<caption>A data.frame: 6 x 467</caption>\n",
       "<thead>\n",
       "\t<tr><th></th><th scope=col>Name</th><th scope=col>Description</th><th scope=col>GTEX.111CU.0226</th><th scope=col>GTEX.111FC.1026</th><th scope=col>GTEX.111VG.0526</th><th scope=col>GTEX.111YS.0726</th><th scope=col>GTEX.1122O.0226</th><th scope=col>GTEX.1128S.0126</th><th scope=col>GTEX.113JC.0126</th><th scope=col>GTEX.117XS.0526</th><th scope=col>...</th><th scope=col>GTEX.1RAZA.0826</th><th scope=col>GTEX.1RAZQ.0926</th><th scope=col>GTEX.1RAZR.1126</th><th scope=col>GTEX.1RAZS.1026</th><th scope=col>GTEX.1RDX4.0926</th><th scope=col>GTEX.1RMOY.0126</th><th scope=col>GTEX.1RNSC.1126</th><th scope=col>GTEX.1RQED.0926</th><th scope=col>GTEX.1S5ZU.0726</th><th scope=col>GTEX.1S83E.0726</th></tr>\n",
       "\t<tr><th></th><th scope=col>&lt;chr&gt;</th><th scope=col>&lt;chr&gt;</th><th scope=col>&lt;int&gt;</th><th scope=col>&lt;int&gt;</th><th scope=col>&lt;int&gt;</th><th scope=col>&lt;int&gt;</th><th scope=col>&lt;int&gt;</th><th scope=col>&lt;int&gt;</th><th scope=col>&lt;int&gt;</th><th scope=col>&lt;int&gt;</th><th scope=col>...</th><th scope=col>&lt;int&gt;</th><th scope=col>&lt;int&gt;</th><th scope=col>&lt;int&gt;</th><th scope=col>&lt;int&gt;</th><th scope=col>&lt;int&gt;</th><th scope=col>&lt;int&gt;</th><th scope=col>&lt;int&gt;</th><th scope=col>&lt;int&gt;</th><th scope=col>&lt;int&gt;</th><th scope=col>&lt;int&gt;</th></tr>\n",
       "</thead>\n",
       "<tbody>\n",
       "\t<tr><th scope=row>1</th><td>ENSG00000223972.5</td><td>DDX11L1    </td><td> 2</td><td>  0</td><td>  0</td><td>  1</td><td>  0</td><td>  0</td><td> 0</td><td>  0</td><td>...</td><td>  0</td><td>  1</td><td> 0</td><td>  0</td><td>  0</td><td>  0</td><td>  0</td><td>  0</td><td>  1</td><td>  1</td></tr>\n",
       "\t<tr><th scope=row>2</th><td>ENSG00000227232.5</td><td>WASH7P     </td><td>60</td><td>246</td><td>137</td><td>122</td><td>132</td><td>259</td><td>87</td><td>157</td><td>...</td><td>251</td><td>246</td><td>91</td><td>178</td><td>168</td><td>267</td><td>325</td><td>218</td><td>169</td><td>162</td></tr>\n",
       "\t<tr><th scope=row>3</th><td>ENSG00000278267.1</td><td>MIR6859-1  </td><td> 0</td><td>  0</td><td>  0</td><td>  0</td><td>  0</td><td>  0</td><td> 0</td><td>  0</td><td>...</td><td>  1</td><td>  0</td><td> 0</td><td>  0</td><td>  0</td><td>  0</td><td>  0</td><td>  0</td><td>  0</td><td>  0</td></tr>\n",
       "\t<tr><th scope=row>4</th><td>ENSG00000243485.5</td><td>MIR1302-2HG</td><td> 1</td><td>  0</td><td>  0</td><td>  0</td><td>  0</td><td>  1</td><td> 1</td><td>  0</td><td>...</td><td>  0</td><td>  0</td><td> 0</td><td>  0</td><td>  1</td><td>  1</td><td>  0</td><td>  0</td><td>  0</td><td>  1</td></tr>\n",
       "\t<tr><th scope=row>5</th><td>ENSG00000237613.2</td><td>FAM138A    </td><td> 1</td><td>  0</td><td>  0</td><td>  0</td><td>  0</td><td>  0</td><td> 0</td><td>  0</td><td>...</td><td>  0</td><td>  0</td><td> 0</td><td>  1</td><td>  0</td><td>  0</td><td>  0</td><td>  0</td><td>  0</td><td>  0</td></tr>\n",
       "\t<tr><th scope=row>6</th><td>ENSG00000268020.3</td><td>OR4G4P     </td><td> 0</td><td>  0</td><td>  1</td><td>  0</td><td>  0</td><td>  0</td><td> 0</td><td>  1</td><td>...</td><td>  0</td><td>  1</td><td> 0</td><td>  1</td><td>  0</td><td>  1</td><td>  0</td><td>  0</td><td>  1</td><td>  1</td></tr>\n",
       "</tbody>\n",
       "</table>\n"
      ],
      "text/latex": [
       "A data.frame: 6 x 467\n",
       "\\begin{tabular}{r|lllllllllllllllllllll}\n",
       "  & Name & Description & GTEX.111CU.0226 & GTEX.111FC.1026 & GTEX.111VG.0526 & GTEX.111YS.0726 & GTEX.1122O.0226 & GTEX.1128S.0126 & GTEX.113JC.0126 & GTEX.117XS.0526 & ... & GTEX.1RAZA.0826 & GTEX.1RAZQ.0926 & GTEX.1RAZR.1126 & GTEX.1RAZS.1026 & GTEX.1RDX4.0926 & GTEX.1RMOY.0126 & GTEX.1RNSC.1126 & GTEX.1RQED.0926 & GTEX.1S5ZU.0726 & GTEX.1S83E.0726\\\\\n",
       "  & <chr> & <chr> & <int> & <int> & <int> & <int> & <int> & <int> & <int> & <int> & ... & <int> & <int> & <int> & <int> & <int> & <int> & <int> & <int> & <int> & <int>\\\\\n",
       "\\hline\n",
       "\t1 & ENSG00000223972.5 & DDX11L1     &  2 &   0 &   0 &   1 &   0 &   0 &  0 &   0 & ... &   0 &   1 &  0 &   0 &   0 &   0 &   0 &   0 &   1 &   1\\\\\n",
       "\t2 & ENSG00000227232.5 & WASH7P      & 60 & 246 & 137 & 122 & 132 & 259 & 87 & 157 & ... & 251 & 246 & 91 & 178 & 168 & 267 & 325 & 218 & 169 & 162\\\\\n",
       "\t3 & ENSG00000278267.1 & MIR6859-1   &  0 &   0 &   0 &   0 &   0 &   0 &  0 &   0 & ... &   1 &   0 &  0 &   0 &   0 &   0 &   0 &   0 &   0 &   0\\\\\n",
       "\t4 & ENSG00000243485.5 & MIR1302-2HG &  1 &   0 &   0 &   0 &   0 &   1 &  1 &   0 & ... &   0 &   0 &  0 &   0 &   1 &   1 &   0 &   0 &   0 &   1\\\\\n",
       "\t5 & ENSG00000237613.2 & FAM138A     &  1 &   0 &   0 &   0 &   0 &   0 &  0 &   0 & ... &   0 &   0 &  0 &   1 &   0 &   0 &   0 &   0 &   0 &   0\\\\\n",
       "\t6 & ENSG00000268020.3 & OR4G4P      &  0 &   0 &   1 &   0 &   0 &   0 &  0 &   1 & ... &   0 &   1 &  0 &   1 &   0 &   1 &   0 &   0 &   1 &   1\\\\\n",
       "\\end{tabular}\n"
      ],
      "text/markdown": [
       "\n",
       "A data.frame: 6 x 467\n",
       "\n",
       "| <!--/--> | Name &lt;chr&gt; | Description &lt;chr&gt; | GTEX.111CU.0226 &lt;int&gt; | GTEX.111FC.1026 &lt;int&gt; | GTEX.111VG.0526 &lt;int&gt; | GTEX.111YS.0726 &lt;int&gt; | GTEX.1122O.0226 &lt;int&gt; | GTEX.1128S.0126 &lt;int&gt; | GTEX.113JC.0126 &lt;int&gt; | GTEX.117XS.0526 &lt;int&gt; | ... ... | GTEX.1RAZA.0826 &lt;int&gt; | GTEX.1RAZQ.0926 &lt;int&gt; | GTEX.1RAZR.1126 &lt;int&gt; | GTEX.1RAZS.1026 &lt;int&gt; | GTEX.1RDX4.0926 &lt;int&gt; | GTEX.1RMOY.0126 &lt;int&gt; | GTEX.1RNSC.1126 &lt;int&gt; | GTEX.1RQED.0926 &lt;int&gt; | GTEX.1S5ZU.0726 &lt;int&gt; | GTEX.1S83E.0726 &lt;int&gt; |\n",
       "|---|---|---|---|---|---|---|---|---|---|---|---|---|---|---|---|---|---|---|---|---|---|\n",
       "| 1 | ENSG00000223972.5 | DDX11L1     |  2 |   0 |   0 |   1 |   0 |   0 |  0 |   0 | ... |   0 |   1 |  0 |   0 |   0 |   0 |   0 |   0 |   1 |   1 |\n",
       "| 2 | ENSG00000227232.5 | WASH7P      | 60 | 246 | 137 | 122 | 132 | 259 | 87 | 157 | ... | 251 | 246 | 91 | 178 | 168 | 267 | 325 | 218 | 169 | 162 |\n",
       "| 3 | ENSG00000278267.1 | MIR6859-1   |  0 |   0 |   0 |   0 |   0 |   0 |  0 |   0 | ... |   1 |   0 |  0 |   0 |   0 |   0 |   0 |   0 |   0 |   0 |\n",
       "| 4 | ENSG00000243485.5 | MIR1302-2HG |  1 |   0 |   0 |   0 |   0 |   1 |  1 |   0 | ... |   0 |   0 |  0 |   0 |   1 |   1 |   0 |   0 |   0 |   1 |\n",
       "| 5 | ENSG00000237613.2 | FAM138A     |  1 |   0 |   0 |   0 |   0 |   0 |  0 |   0 | ... |   0 |   0 |  0 |   1 |   0 |   0 |   0 |   0 |   0 |   0 |\n",
       "| 6 | ENSG00000268020.3 | OR4G4P      |  0 |   0 |   1 |   0 |   0 |   0 |  0 |   1 | ... |   0 |   1 |  0 |   1 |   0 |   1 |   0 |   0 |   1 |   1 |\n",
       "\n"
      ],
      "text/plain": [
       "  Name              Description GTEX.111CU.0226 GTEX.111FC.1026 GTEX.111VG.0526\n",
       "1 ENSG00000223972.5 DDX11L1      2                0               0            \n",
       "2 ENSG00000227232.5 WASH7P      60              246             137            \n",
       "3 ENSG00000278267.1 MIR6859-1    0                0               0            \n",
       "4 ENSG00000243485.5 MIR1302-2HG  1                0               0            \n",
       "5 ENSG00000237613.2 FAM138A      1                0               0            \n",
       "6 ENSG00000268020.3 OR4G4P       0                0               1            \n",
       "  GTEX.111YS.0726 GTEX.1122O.0226 GTEX.1128S.0126 GTEX.113JC.0126\n",
       "1   1               0               0              0             \n",
       "2 122             132             259             87             \n",
       "3   0               0               0              0             \n",
       "4   0               0               1              1             \n",
       "5   0               0               0              0             \n",
       "6   0               0               0              0             \n",
       "  GTEX.117XS.0526 ... GTEX.1RAZA.0826 GTEX.1RAZQ.0926 GTEX.1RAZR.1126\n",
       "1   0             ...   0               1              0             \n",
       "2 157             ... 251             246             91             \n",
       "3   0             ...   1               0              0             \n",
       "4   0             ...   0               0              0             \n",
       "5   0             ...   0               0              0             \n",
       "6   1             ...   0               1              0             \n",
       "  GTEX.1RAZS.1026 GTEX.1RDX4.0926 GTEX.1RMOY.0126 GTEX.1RNSC.1126\n",
       "1   0               0               0               0            \n",
       "2 178             168             267             325            \n",
       "3   0               0               0               0            \n",
       "4   0               1               1               0            \n",
       "5   1               0               0               0            \n",
       "6   1               0               1               0            \n",
       "  GTEX.1RQED.0926 GTEX.1S5ZU.0726 GTEX.1S83E.0726\n",
       "1   0               1               1            \n",
       "2 218             169             162            \n",
       "3   0               0               0            \n",
       "4   0               0               1            \n",
       "5   0               0               0            \n",
       "6   0               1               1            "
      ]
     },
     "metadata": {},
     "output_type": "display_data"
    }
   ],
   "source": [
    "countData <- read.table('/mnt/iribhm/people/rcharkao/GTEx-thyroid-RNA-read-counts.tsv', header=TRUE)\n",
    "head(countData)"
   ]
  },
  {
   "cell_type": "code",
   "execution_count": 20,
   "id": "b660ad3b-0d4d-4588-ae0e-120a40b3ad3c",
   "metadata": {},
   "outputs": [
    {
     "data": {
      "text/html": [
       "467"
      ],
      "text/latex": [
       "467"
      ],
      "text/markdown": [
       "467"
      ],
      "text/plain": [
       "[1] 467"
      ]
     },
     "metadata": {},
     "output_type": "display_data"
    }
   ],
   "source": [
    "length(countData)"
   ]
  },
  {
   "cell_type": "code",
   "execution_count": 11,
   "id": "2fdcc4b9-78f3-4194-b8f1-4683f2c5f713",
   "metadata": {},
   "outputs": [
    {
     "data": {
      "text/html": [
       "<table class=\"dataframe\">\n",
       "<caption>A data.frame: 1 x 467</caption>\n",
       "<thead>\n",
       "\t<tr><th></th><th scope=col>Name</th><th scope=col>Description</th><th scope=col>GTEX.111CU.0226</th><th scope=col>GTEX.111FC.1026</th><th scope=col>GTEX.111VG.0526</th><th scope=col>GTEX.111YS.0726</th><th scope=col>GTEX.1122O.0226</th><th scope=col>GTEX.1128S.0126</th><th scope=col>GTEX.113JC.0126</th><th scope=col>GTEX.117XS.0526</th><th scope=col>...</th><th scope=col>GTEX.1RAZA.0826</th><th scope=col>GTEX.1RAZQ.0926</th><th scope=col>GTEX.1RAZR.1126</th><th scope=col>GTEX.1RAZS.1026</th><th scope=col>GTEX.1RDX4.0926</th><th scope=col>GTEX.1RMOY.0126</th><th scope=col>GTEX.1RNSC.1126</th><th scope=col>GTEX.1RQED.0926</th><th scope=col>GTEX.1S5ZU.0726</th><th scope=col>GTEX.1S83E.0726</th></tr>\n",
       "\t<tr><th></th><th scope=col>&lt;chr&gt;</th><th scope=col>&lt;chr&gt;</th><th scope=col>&lt;int&gt;</th><th scope=col>&lt;int&gt;</th><th scope=col>&lt;int&gt;</th><th scope=col>&lt;int&gt;</th><th scope=col>&lt;int&gt;</th><th scope=col>&lt;int&gt;</th><th scope=col>&lt;int&gt;</th><th scope=col>&lt;int&gt;</th><th scope=col>...</th><th scope=col>&lt;int&gt;</th><th scope=col>&lt;int&gt;</th><th scope=col>&lt;int&gt;</th><th scope=col>&lt;int&gt;</th><th scope=col>&lt;int&gt;</th><th scope=col>&lt;int&gt;</th><th scope=col>&lt;int&gt;</th><th scope=col>&lt;int&gt;</th><th scope=col>&lt;int&gt;</th><th scope=col>&lt;int&gt;</th></tr>\n",
       "</thead>\n",
       "<tbody>\n",
       "\t<tr><th scope=row>2</th><td>ENSG00000227232.5</td><td>WASH7P</td><td>60</td><td>246</td><td>137</td><td>122</td><td>132</td><td>259</td><td>87</td><td>157</td><td>...</td><td>251</td><td>246</td><td>91</td><td>178</td><td>168</td><td>267</td><td>325</td><td>218</td><td>169</td><td>162</td></tr>\n",
       "</tbody>\n",
       "</table>\n"
      ],
      "text/latex": [
       "A data.frame: 1 x 467\n",
       "\\begin{tabular}{r|lllllllllllllllllllll}\n",
       "  & Name & Description & GTEX.111CU.0226 & GTEX.111FC.1026 & GTEX.111VG.0526 & GTEX.111YS.0726 & GTEX.1122O.0226 & GTEX.1128S.0126 & GTEX.113JC.0126 & GTEX.117XS.0526 & ... & GTEX.1RAZA.0826 & GTEX.1RAZQ.0926 & GTEX.1RAZR.1126 & GTEX.1RAZS.1026 & GTEX.1RDX4.0926 & GTEX.1RMOY.0126 & GTEX.1RNSC.1126 & GTEX.1RQED.0926 & GTEX.1S5ZU.0726 & GTEX.1S83E.0726\\\\\n",
       "  & <chr> & <chr> & <int> & <int> & <int> & <int> & <int> & <int> & <int> & <int> & ... & <int> & <int> & <int> & <int> & <int> & <int> & <int> & <int> & <int> & <int>\\\\\n",
       "\\hline\n",
       "\t2 & ENSG00000227232.5 & WASH7P & 60 & 246 & 137 & 122 & 132 & 259 & 87 & 157 & ... & 251 & 246 & 91 & 178 & 168 & 267 & 325 & 218 & 169 & 162\\\\\n",
       "\\end{tabular}\n"
      ],
      "text/markdown": [
       "\n",
       "A data.frame: 1 x 467\n",
       "\n",
       "| <!--/--> | Name &lt;chr&gt; | Description &lt;chr&gt; | GTEX.111CU.0226 &lt;int&gt; | GTEX.111FC.1026 &lt;int&gt; | GTEX.111VG.0526 &lt;int&gt; | GTEX.111YS.0726 &lt;int&gt; | GTEX.1122O.0226 &lt;int&gt; | GTEX.1128S.0126 &lt;int&gt; | GTEX.113JC.0126 &lt;int&gt; | GTEX.117XS.0526 &lt;int&gt; | ... ... | GTEX.1RAZA.0826 &lt;int&gt; | GTEX.1RAZQ.0926 &lt;int&gt; | GTEX.1RAZR.1126 &lt;int&gt; | GTEX.1RAZS.1026 &lt;int&gt; | GTEX.1RDX4.0926 &lt;int&gt; | GTEX.1RMOY.0126 &lt;int&gt; | GTEX.1RNSC.1126 &lt;int&gt; | GTEX.1RQED.0926 &lt;int&gt; | GTEX.1S5ZU.0726 &lt;int&gt; | GTEX.1S83E.0726 &lt;int&gt; |\n",
       "|---|---|---|---|---|---|---|---|---|---|---|---|---|---|---|---|---|---|---|---|---|---|\n",
       "| 2 | ENSG00000227232.5 | WASH7P | 60 | 246 | 137 | 122 | 132 | 259 | 87 | 157 | ... | 251 | 246 | 91 | 178 | 168 | 267 | 325 | 218 | 169 | 162 |\n",
       "\n"
      ],
      "text/plain": [
       "  Name              Description GTEX.111CU.0226 GTEX.111FC.1026 GTEX.111VG.0526\n",
       "2 ENSG00000227232.5 WASH7P      60              246             137            \n",
       "  GTEX.111YS.0726 GTEX.1122O.0226 GTEX.1128S.0126 GTEX.113JC.0126\n",
       "2 122             132             259             87             \n",
       "  GTEX.117XS.0526 ... GTEX.1RAZA.0826 GTEX.1RAZQ.0926 GTEX.1RAZR.1126\n",
       "2 157             ... 251             246             91             \n",
       "  GTEX.1RAZS.1026 GTEX.1RDX4.0926 GTEX.1RMOY.0126 GTEX.1RNSC.1126\n",
       "2 178             168             267             325            \n",
       "  GTEX.1RQED.0926 GTEX.1S5ZU.0726 GTEX.1S83E.0726\n",
       "2 218             169             162            "
      ]
     },
     "metadata": {},
     "output_type": "display_data"
    }
   ],
   "source": [
    "countData[2,]"
   ]
  },
  {
   "cell_type": "code",
   "execution_count": 15,
   "id": "19579dcc-f110-4906-b70b-c5a9163a1de4",
   "metadata": {},
   "outputs": [
    {
     "data": {
      "text/html": [
       "'DDX11L1'"
      ],
      "text/latex": [
       "'DDX11L1'"
      ],
      "text/markdown": [
       "'DDX11L1'"
      ],
      "text/plain": [
       "[1] \"DDX11L1\""
      ]
     },
     "metadata": {},
     "output_type": "display_data"
    }
   ],
   "source": [
    "countData[1,2] #row 1 col2"
   ]
  },
  {
   "cell_type": "code",
   "execution_count": null,
   "id": "3d9d6712-3796-4326-b3a4-6caeec7392df",
   "metadata": {},
   "outputs": [],
   "source": [
    "#countData[, c(2)] équivalent à countData[,2]\n",
    "countData[, 3:467]"
   ]
  },
  {
   "cell_type": "markdown",
   "id": "37c59b29-e4bc-4fe2-bb42-757efc3d2fa2",
   "metadata": {},
   "source": [
    "countData = for matrix input: a matrix of non-negative integers\n",
    "\n",
    "colData = for matrix input: a DataFrame or data.frame with at least a single column. Rows of colData correspond to columns of countData\n",
    "\n",
    "design = a formula or matrix. the formula expresses how the counts for each gene depend on the variables in colData. \n",
    "Many R formula are valid, including designs with multiple variables, e.g., ~ group + condition, and designs with interac- tions, e.g., ~ genotype + treatment + genotype:treatment. \n",
    "See results for a variety of designs and how to extract results tables. By default, the functions in this package will use the last variable in the formula for building results tables and plotting. ~ 1 can be used for no design, although users need to remember to switch to another design for differential testing."
   ]
  },
  {
   "cell_type": "code",
   "execution_count": 3,
   "id": "4d9efb71-3b52-4315-b45e-3af56e81cd0e",
   "metadata": {},
   "outputs": [],
   "source": [
    "countData <- countData[, 3:467]"
   ]
  },
  {
   "cell_type": "code",
   "execution_count": 49,
   "id": "b1ed2ef5-19d5-48e4-a0bf-a571ab6914f2",
   "metadata": {},
   "outputs": [
    {
     "data": {
      "text/html": [
       "'S4'"
      ],
      "text/latex": [
       "'S4'"
      ],
      "text/markdown": [
       "'S4'"
      ],
      "text/plain": [
       "[1] \"S4\""
      ]
     },
     "metadata": {},
     "output_type": "display_data"
    }
   ],
   "source": [
    "typeof(DataFrame(colnames(countData)))"
   ]
  },
  {
   "cell_type": "code",
   "execution_count": 3,
   "id": "6c5e2e74-4591-4c56-bfa9-0edb465f8cc6",
   "metadata": {},
   "outputs": [
    {
     "ename": "ERROR",
     "evalue": "Error in DESeqDataSet(se, design = design, ignoreRank): some values in assay are negative\n",
     "output_type": "error",
     "traceback": [
      "Error in DESeqDataSet(se, design = design, ignoreRank): some values in assay are negative\nTraceback:\n",
      "1. DESeqDataSetFromMatrix(countData = countData, colData = DataFrame(colnames(countData)), \n .     design = ~colnames(countData))",
      "2. DESeqDataSet(se, design = design, ignoreRank)",
      "3. stop(\"some values in assay are negative\")"
     ]
    }
   ],
   "source": [
    "dds <- DESeqDataSetFromMatrix(countData=countData,\n",
    "                              colData = DataFrame(colnames(countData)), \n",
    "                              design = ~colnames(countData))"
   ]
  },
  {
   "cell_type": "code",
   "execution_count": null,
   "id": "c2e4fb76-3aa3-4159-9479-a19ed00b53c6",
   "metadata": {},
   "outputs": [],
   "source": [
    "~ colnames(countData)"
   ]
  },
  {
   "cell_type": "markdown",
   "id": "cbf656a4-ddda-4908-bbb2-bdc55ae440e6",
   "metadata": {},
   "source": [
    "https://bioconductor.org/packages/release/bioc/vignettes/DESeq2/inst/doc/DESeq2.R\n",
    "\n",
    "https://bioconductor.org/packages/release/bioc/manuals/DESeq2/man/DESeq2.pdf "
   ]
  },
  {
   "cell_type": "code",
   "execution_count": 35,
   "id": "22373472-e195-4c18-8dac-5812fb5bef3a",
   "metadata": {},
   "outputs": [
    {
     "data": {
      "text/html": [
       "<table class=\"dataframe\">\n",
       "<caption>A matrix: 6 x 10 of type dbl</caption>\n",
       "<tbody>\n",
       "\t<tr><td> 89</td><td>267</td><td> 48</td><td>127</td><td> 86</td><td> 32</td><td> 96</td><td>159</td><td> 62</td><td>105</td></tr>\n",
       "\t<tr><td> 60</td><td>117</td><td>114</td><td> 69</td><td> 43</td><td> 31</td><td> 94</td><td>160</td><td> 64</td><td> 34</td></tr>\n",
       "\t<tr><td> 56</td><td> 38</td><td>114</td><td> 82</td><td>111</td><td> 75</td><td>159</td><td> 39</td><td> 61</td><td>101</td></tr>\n",
       "\t<tr><td>101</td><td> 47</td><td>112</td><td> 69</td><td>223</td><td>109</td><td> 97</td><td> 54</td><td>239</td><td> 52</td></tr>\n",
       "\t<tr><td>100</td><td> 91</td><td> 69</td><td>114</td><td>144</td><td> 26</td><td>119</td><td>  5</td><td>159</td><td>130</td></tr>\n",
       "\t<tr><td>304</td><td> 77</td><td> 11</td><td>120</td><td> 74</td><td> 29</td><td> 32</td><td> 67</td><td>101</td><td>110</td></tr>\n",
       "</tbody>\n",
       "</table>\n"
      ],
      "text/latex": [
       "A matrix: 6 x 10 of type dbl\n",
       "\\begin{tabular}{llllllllll}\n",
       "\t  89 & 267 &  48 & 127 &  86 &  32 &  96 & 159 &  62 & 105\\\\\n",
       "\t  60 & 117 & 114 &  69 &  43 &  31 &  94 & 160 &  64 &  34\\\\\n",
       "\t  56 &  38 & 114 &  82 & 111 &  75 & 159 &  39 &  61 & 101\\\\\n",
       "\t 101 &  47 & 112 &  69 & 223 & 109 &  97 &  54 & 239 &  52\\\\\n",
       "\t 100 &  91 &  69 & 114 & 144 &  26 & 119 &   5 & 159 & 130\\\\\n",
       "\t 304 &  77 &  11 & 120 &  74 &  29 &  32 &  67 & 101 & 110\\\\\n",
       "\\end{tabular}\n"
      ],
      "text/markdown": [
       "\n",
       "A matrix: 6 x 10 of type dbl\n",
       "\n",
       "|  89 | 267 |  48 | 127 |  86 |  32 |  96 | 159 |  62 | 105 |\n",
       "|  60 | 117 | 114 |  69 |  43 |  31 |  94 | 160 |  64 |  34 |\n",
       "|  56 |  38 | 114 |  82 | 111 |  75 | 159 |  39 |  61 | 101 |\n",
       "| 101 |  47 | 112 |  69 | 223 | 109 |  97 |  54 | 239 |  52 |\n",
       "| 100 |  91 |  69 | 114 | 144 |  26 | 119 |   5 | 159 | 130 |\n",
       "| 304 |  77 |  11 | 120 |  74 |  29 |  32 |  67 | 101 | 110 |\n",
       "\n"
      ],
      "text/plain": [
       "     [,1] [,2] [,3] [,4] [,5] [,6] [,7] [,8] [,9] [,10]\n",
       "[1,]  89  267   48  127   86   32   96  159   62  105  \n",
       "[2,]  60  117  114   69   43   31   94  160   64   34  \n",
       "[3,]  56   38  114   82  111   75  159   39   61  101  \n",
       "[4,] 101   47  112   69  223  109   97   54  239   52  \n",
       "[5,] 100   91   69  114  144   26  119    5  159  130  \n",
       "[6,] 304   77   11  120   74   29   32   67  101  110  "
      ]
     },
     "metadata": {},
     "output_type": "display_data"
    }
   ],
   "source": [
    "cnts <- matrix(rnbinom(n=1000, mu=100, size=1/0.5), ncol=10)\n",
    "head(cnts)"
   ]
  },
  {
   "cell_type": "code",
   "execution_count": 37,
   "id": "e4993a01-cb07-4853-bd43-dc73c8e60aeb",
   "metadata": {},
   "outputs": [
    {
     "data": {
      "text/html": [
       "10"
      ],
      "text/latex": [
       "10"
      ],
      "text/markdown": [
       "10"
      ],
      "text/plain": [
       "[1] 10"
      ]
     },
     "metadata": {},
     "output_type": "display_data"
    }
   ],
   "source": [
    "cond <- factor(rep(1:2, each=5))\n",
    "length(cond)"
   ]
  },
  {
   "cell_type": "code",
   "execution_count": 45,
   "id": "c2c05e86-cba6-4770-a386-a9a612ff0886",
   "metadata": {},
   "outputs": [
    {
     "data": {
      "text/html": [
       "'integer'"
      ],
      "text/latex": [
       "'integer'"
      ],
      "text/markdown": [
       "'integer'"
      ],
      "text/plain": [
       "[1] \"integer\""
      ]
     },
     "metadata": {},
     "output_type": "display_data"
    }
   ],
   "source": [
    "typeof(cond)"
   ]
  },
  {
   "cell_type": "code",
   "execution_count": null,
   "id": "ea83c296-daa8-4383-8b3c-d2a919cd04b6",
   "metadata": {},
   "outputs": [],
   "source": [
    "# see vignette for suggestions on generating\n",
    "# count tables from RNA-Seq data\n",
    "cnts <- matrix(rnbinom(n=1000, mu=100, size=1/0.5), ncol=10)\n",
    "cond <- factor(rep(1:2, each=5))\n",
    "# object construction\n",
    "dds <- DESeqDataSetFromMatrix(cnts, DataFrame(cond), ~ cond)\n",
    "# standard analysis\n",
    "dds <- DESeq(dds)\n",
    "res <- results(dds)\n",
    "# moderated log2 fold changes\n",
    "resultsNames(dds)\n",
    "resLFC <- lfcShrink(dds, coef=2, type=\"apeglm\")\n",
    "# an alternate analysis: likelihood ratio test\n",
    "ddsLRT <- DESeq(dds, test=\"LRT\", reduced= ~ 1)\n",
    "resLRT <- results(ddsLRT)"
   ]
  }
 ],
 "metadata": {
  "kernelspec": {
   "display_name": "R full",
   "language": "R",
   "name": "r_full"
  },
  "language_info": {
   "codemirror_mode": "r",
   "file_extension": ".r",
   "mimetype": "text/x-r-source",
   "name": "R",
   "pygments_lexer": "r",
   "version": "4.1.0"
  }
 },
 "nbformat": 4,
 "nbformat_minor": 5
}
